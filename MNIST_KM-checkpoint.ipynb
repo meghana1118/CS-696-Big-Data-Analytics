{
 "cells": [
  {
   "cell_type": "markdown",
   "metadata": {},
   "source": [
    " <font color='red'>**Implementation of KMeans as Feature Extraction method using MNIST**</font>"
   ]
  },
  {
   "cell_type": "code",
   "execution_count": 1,
   "metadata": {},
   "outputs": [],
   "source": [
    "import numpy as np\n",
    "import pandas as pd\n",
    "from sklearn.cluster import KMeans\n",
    "from scipy.spatial import distance\n",
    "import time\n",
    "import matplotlib.pyplot as plt\n",
    "from sklearn.neighbors import KNeighborsClassifier\n",
    "from sklearn.preprocessing import StandardScaler"
   ]
  },
  {
   "cell_type": "markdown",
   "metadata": {},
   "source": [
    " <font color='sky blue'>**_Loding data and splitting into test and train_**</font>"
   ]
  },
  {
   "cell_type": "code",
   "execution_count": 3,
   "metadata": {},
   "outputs": [
    {
     "name": "stdout",
     "output_type": "stream",
     "text": [
      "Training data and labels (60000, 784) (60000,) Test data and labels (10000, 784) (10000,)\n"
     ]
    }
   ],
   "source": [
    "#tf.keras.backend.clear_session()\n",
    "df_train = pd.read_csv(\n",
    "    filepath_or_buffer=r'C:\\Users\\meghs\\Documents\\Big data\\Project 3\\mnist-in-csv\\mnist_train.csv')\n",
    "\n",
    "df_test=pd.read_csv(\n",
    "    filepath_or_buffer=r'C:\\Users\\meghs\\Documents\\Big data\\Project 3\\mnist-in-csv\\mnist_test.csv')\n",
    "\n",
    "\n",
    "# Assign features and corresponding labels\n",
    "y_train = df_train.iloc[:,0].values\n",
    "x_train = df_train.iloc[:, 1:].values\n",
    "\n",
    "y_test =df_test.iloc[:,0].values\n",
    "x_test = df_test.iloc[:, 1:].values\n",
    "\n",
    "#df_train.head()\n",
    "print('Training data and labels',x_train.shape,y_train.shape,\n",
    "      'Test data and labels',x_test.shape,y_test.shape)\n",
    "\n",
    "x_train = x_train/255\n",
    "x_test = x_test/255"
   ]
  },
  {
   "cell_type": "markdown",
   "metadata": {},
   "source": [
    " <font color='cyan'>using KMeans to find features and create new data table</font>"
   ]
  },
  {
   "cell_type": "code",
   "execution_count": null,
   "metadata": {},
   "outputs": [],
   "source": [
    "#K_mean for feature extraction_training\n",
    "kmeans_model = KMeans(n_clusters=10, random_state=1).fit(x_train)\n",
    "labels = kmeans_model.labels_\n",
    "centers=kmeans_model.cluster_centers_\n",
    "dist=[]\n",
    "start = time.time()\n",
    "for j in range(10):\n",
    "    for i in range(len(x_train)):\n",
    "        dist.append(distance.euclidean(x_train[i], centers[j]))\n",
    "        #print(j)\n",
    "end = time.time()\n",
    "print ('Training time for kmean',end - start)"
   ]
  },
  {
   "cell_type": "code",
   "execution_count": 4,
   "metadata": {},
   "outputs": [
    {
     "name": "stdout",
     "output_type": "stream",
     "text": [
      "Testing time for kmean 4.07989764213562\n"
     ]
    }
   ],
   "source": [
    "#K_mean for feature extraction_test\n",
    "kmeans_model_ = KMeans(n_clusters=10, random_state=1).fit(x_test)\n",
    "labels_ = kmeans_model.labels_\n",
    "centers_=kmeans_model.cluster_centers_\n",
    "dist_=[]\n",
    "start_ = time.time()\n",
    "for j in range(10):\n",
    "    for i in range(len(x_test)):\n",
    "        dist_.append(distance.euclidean(x_test[i], centers_[j]))\n",
    "        #print(j)\n",
    "end_ = time.time()\n",
    "#end = time.time()\n",
    "#print ('Time taken by Kmean to make new features',end - start)\n",
    "print ('Testing time for kmean',end_ - start_)"
   ]
  },
  {
   "cell_type": "code",
   "execution_count": 8,
   "metadata": {},
   "outputs": [
    {
     "name": "stdout",
     "output_type": "stream",
     "text": [
      "Time 33.189427614212036\n",
      "[1.         0.93055    0.93236667 0.92115    0.918     ] [0.8547 0.8462 0.8691 0.8732 0.8758]\n"
     ]
    },
    {
     "data": {
      "image/png": "[encoded data removed]",
      "text/plain": [
       "<Figure size 432x288 with 1 Axes>"
      ]
     },
     "metadata": {
      "needs_background": "light"
     },
     "output_type": "display_data"
    }
   ],
   "source": [
    "#make new data\n",
    "mnist_train={'feature1': dist[0:60000],'feature2': dist[60000:120000],'feature3': dist[120000:180000],\n",
    "                      'feature4': dist[180000:240000],'feature5': dist[240000:300000],'feature6': dist[300000:360000],\n",
    "                      'feature7': dist[360000:420000],'feature8': dist[420000:480000],'feature9': dist[480000:540000],\n",
    "             'feature10': dist[540000:600000] }\n",
    "\n",
    "mnist_new_train = pd.DataFrame(mnist_train)\n",
    "\n",
    "\n",
    "#make new data\n",
    "mnist_test={'feature1': dist_[0:10000],'feature2': dist_[10000:20000],'feature3': dist_[20000:30000],\n",
    "                      'feature4': dist_[30000:40000],'feature5': dist_[40000:50000],'feature6': dist_[50000:60000],\n",
    "                      'feature7': dist_[60000:70000],'feature8': dist_[70000:80000],'feature9': dist_[80000:90000],\n",
    "            'feature10': dist_[90000:100000] }\n",
    "\n",
    "mnist_new_test = pd.DataFrame(mnist_test)\n",
    "\n",
    "\n",
    "mnist_new_train=StandardScaler().fit_transform(mnist_new_train)\n",
    "mnist_new_test=StandardScaler().fit_transform(mnist_new_test)\n",
    "\n",
    "#knn \n",
    "\n",
    "# Setup arrays to store train and test accuracies\n",
    "neighbors = np.arange(1, 6)\n",
    "train_accuracy = np.empty(len(neighbors))\n",
    "train_error = np.empty(len(neighbors))\n",
    "test_accuracy = np.empty(len(neighbors))\n",
    "test_error = np.empty(len(neighbors))\n",
    "#test_accuracy2 = np.empty(len(neighbors))\n",
    "# Loop over different values of k\n",
    "s=time.time()\n",
    "for i, k in enumerate(neighbors):\n",
    "    # Setup a k-NN Classifier with k neighbors: knn\n",
    "    knn = KNeighborsClassifier(n_neighbors=k)\n",
    "\n",
    "    # Fit the classifier to the training data\n",
    "    knn.fit(mnist_new_train,y_train)\n",
    "    \n",
    "    \n",
    "    #Compute accuracy on the training set\n",
    "    \n",
    "    train_accuracy[i] = knn.score(mnist_new_train, y_train)\n",
    "    #train_error[i] =(1-knn.score(X_train, y_train))*100\n",
    "\n",
    "    #Compute accuracy on the testing set\n",
    "    knn.predict(mnist_new_test)\n",
    "    test_accuracy[i] = knn.score(mnist_new_test, y_test)\n",
    "    #test_error[i] =(1-knn.score(X_test, y_test))*100\n",
    "    #knn.predict(X_pca2)\n",
    "    #test_accuracy2[i] = knn.score(X_pca2, y_target2)\n",
    "e = time.time()\n",
    "\n",
    "\n",
    "print ('Time',e - s)\n",
    "\n",
    "\n",
    "# Generate plot\n",
    "print(train_accuracy,test_accuracy)\n",
    "plt.title('k-NN: Varying Number of Neighbors')\n",
    "plt.plot(neighbors, test_accuracy, label = 'Testing Accuracy')\n",
    "plt.plot(neighbors, train_accuracy, label = 'Training Accuracy')\n",
    "#plt.plot(neighbors, test_accuracy2, label = 'Testing Data2 Accuracy')\n",
    "plt.legend()\n",
    "plt.xlabel('Number of Neighbors')\n",
    "plt.ylabel('Accuracy')\n",
    "plt.show()"
   ]
  },
  {
   "cell_type": "code",
   "execution_count": null,
   "metadata": {},
   "outputs": [],
   "source": []
  }
 ],
 "metadata": {
  "kernelspec": {
   "display_name": "Python 3",
   "language": "python",
   "name": "python3"
  },
  "language_info": {
   "codemirror_mode": {
    "name": "ipython",
    "version": 3
   },
   "file_extension": ".py",
   "mimetype": "text/x-python",
   "name": "python",
   "nbconvert_exporter": "python",
   "pygments_lexer": "ipython3",
   "version": "3.6.7"
  }
 },
 "nbformat": 4,
 "nbformat_minor": 2
}
